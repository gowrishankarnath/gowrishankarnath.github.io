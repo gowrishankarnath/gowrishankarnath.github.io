{
 "cells": [
  {
   "cell_type": "markdown",
   "metadata": {},
   "source": [
    "### Plotting Swine Flu Death in India Using Altair"
   ]
  },
  {
   "cell_type": "markdown",
   "metadata": {},
   "source": [
    "\n",
    "Swine Flu has claimed lots of lives in India. It has affected the lives of many people across different states. \n",
    "You can read more notabout this at the below url\n",
    "(https://www.news18.com/news/india/swine-flu-returns-to-haunt-india-claims-169-lives-in-just-30-days-2018747.html)[https://www.news18.com/news/india/swine-flu-returns-to-haunt-india-claims-169-lives-in-just-30-days-2018747.html]\n"
   ]
  },
  {
   "cell_type": "markdown",
   "metadata": {},
   "source": [
    "Here in this article, we try to reproduce the graphs mentioned in this article."
   ]
  },
  {
   "cell_type": "markdown",
   "metadata": {},
   "source": []
  }
 ],
 "metadata": {
  "kernelspec": {
   "display_name": "Python 3",
   "language": "python",
   "name": "python3"
  },
  "language_info": {
   "codemirror_mode": {
    "name": "ipython",
    "version": 3
   },
   "file_extension": ".py",
   "mimetype": "text/x-python",
   "name": "python",
   "nbconvert_exporter": "python",
   "pygments_lexer": "ipython3",
   "version": "3.7.1"
  }
 },
 "nbformat": 4,
 "nbformat_minor": 2
}
