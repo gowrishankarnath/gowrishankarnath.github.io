{
 "cells": [
  {
   "cell_type": "markdown",
   "metadata": {},
   "source": [
    "**Below are the books Authored/Co-Authored/Reviewed by me.**"
   ]
  },
  {
   "cell_type": "markdown",
   "metadata": {},
   "source": [
    "# Books Authored/Co-Authored"
   ]
  },
  {
   "cell_type": "markdown",
   "metadata": {},
   "source": [
    "## Gowrishankar S., Veena A., “Introduction to Python Programming”, 1st Edition, Published by CRC Press/Taylor and Francis, Boca Raton, USA. (ISBN: 978-0815394372)  \n",
    "\n",
    "<img src=\"images\\page_4_image_1.jpg\" alt=\"Authored Book\" align=\"middle\" height = 250, width = 250>  \n",
    "### Book Purchase    \n",
    "You can purchase the book at the following sources. **(Click on the image to buy)**  \n",
    "\n",
    "<a href=\"http://www.amazon.com/dp/0815394373\" target=\"_blank\" style=\"color: rgb(6,69,173)\"><img src=\"images\\page_4_image_2.jpg\" width=\"100\" height=\"150\" alt=\"amazon\"></a>  \n",
    "\n",
    "<a href=\"https://www.crcpress.com/Introduction-to-Python-Programming/S-A/p/book/9780815394372\" target=\"_blank\" style=\"color: rgb(6,69,173)\"><img src=\"images\\page_4_image_3.jpg\" width=\"100\" height=\"150\" alt=\"crcpress\"></a>"
   ]
  },
  {
   "cell_type": "markdown",
   "metadata": {},
   "source": [
    "# Books Reviewed  "
   ]
  },
  {
   "cell_type": "markdown",
   "metadata": {},
   "source": [
    "## \"Hands-On Recommendation Systems with Python\", 1st Edition, Packt Publishing Ltd, Birmingham, United Kingdom, 2018. (ISBN: 978-1788993753)\n",
    "<img src=\"images\\page_4_image_6.jpg\" alt=\"Authored Book\" align=\"middle\" height = 250, width = 250>  "
   ]
  },
  {
   "cell_type": "markdown",
   "metadata": {},
   "source": [
    "## \"Programming and Problem Solving in Python\", 1st Edition, McGraw Hill Education (India) Private Limited, Noida, India, 2017. (ISBN: 978-9351343080)\n",
    "<img src=\"images\\page_4_image_7.jpg\" alt=\"Authored Book\" align=\"middle\" height = 250, width = 250>  "
   ]
  },
  {
   "cell_type": "markdown",
   "metadata": {},
   "source": [
    "## \"Python Penetration Testing Cookbook\", 1st Edition, Packt Publishing Ltd, Birmingham, United Kingdom, 2017. (ISBN: 978-1784399771)\n",
    "<img src=\"images\\page_4_image_8.jpg\" alt=\"Authored Book\" align=\"middle\" height = 250, width = 250>  "
   ]
  },
  {
   "cell_type": "markdown",
   "metadata": {},
   "source": [
    "## \"Internet of Things – Architecture and Design Principles\", 1st Edition, McGraw Hill Education (India) Private Limited, Noida, India, 2017. (ISBN: 978-9352605224)\n",
    "<img src=\"images\\page_4_image_9.jpg\" alt=\"Authored Book\" align=\"middle\" height = 250, width = 250>  "
   ]
  },
  {
   "cell_type": "markdown",
   "metadata": {},
   "source": [
    "## \"Python Network Programming Cookbook\", 2nd Edition, Packt Publishing Ltd, Birmingham, United Kingdom, 2017. (ISBN: 978-1786463999)\n",
    "<img src=\"images\\page_4_image_10.jpg\" alt=\"Authored Book\" align=\"middle\" height = 250, width = 250>  "
   ]
  },
  {
   "cell_type": "markdown",
   "metadata": {},
   "source": [
    "## \"Big Data Management and Analytics\", 1st Edition, Cengage Learning India Private Limited, Delhi, India 2017. (ISBN: 978-8131532201)\n",
    "<img src=\"images\\page_4_image_11.jpg\" alt=\"Authored Book\" align=\"middle\" height = 250, width = 250>  "
   ]
  },
  {
   "cell_type": "markdown",
   "metadata": {},
   "source": [
    "## \"Internet of Things\", 1st Edition, Cengage Learning India Private Limited, Delhi, India 2017. (ISBN: 978-9386858955)\n",
    "<img src=\"images\\page_4_image_12.jpg\" alt=\"Authored Book\" align=\"middle\" height = 250, width = 250>  "
   ]
  }
 ],
 "metadata": {
  "kernelspec": {
   "display_name": "Python 3",
   "language": "python",
   "name": "python3"
  },
  "language_info": {
   "codemirror_mode": {
    "name": "ipython",
    "version": 3
   },
   "file_extension": ".py",
   "mimetype": "text/x-python",
   "name": "python",
   "nbconvert_exporter": "python",
   "pygments_lexer": "ipython3",
   "version": "3.7.3"
  }
 },
 "nbformat": 4,
 "nbformat_minor": 2
}
