{
 "cells": [
  {
   "cell_type": "markdown",
   "metadata": {},
   "source": [
    "We have taken a new initiative to introduce the engineering students of Computer Science and Engineering department of Dr.Ambedkar Institute of Technology (Dr.AIT) to the concepts of Economics. Regarding this, we have prescribed the **\"Principles of Economics\"** course starting from the academic year 2021. This is an elective course. I like to thank _OpenStax_ for providing high quality textbooks as part of their Open Education Resources initiative.  "
   ]
  },
  {
   "cell_type": "markdown",
   "metadata": {},
   "source": [
    "**Course Title: Principles of Economics**  \n",
    "**Course Code: 18CS644**  \n",
    "**Exam Duration: 3 hours**  \n",
    "**No. of Credits: 3 = 3: 0: 0 (L: T: P)**  \n",
    "**No. of lecture hours/week: 3 Hours**  \n",
    "**Total No. of Contact Hours: 42 Hours**  "
   ]
  },
  {
   "cell_type": "markdown",
   "metadata": {},
   "source": [
    "### Course objectives:\n",
    "\n",
    "1.  Choose the concept of scarcity to explain economic trade-offs, opportunity costs, and rational behaviour.  \n",
    "2.\tInterpret measures of elasticity and investigate the production and costs of the firm.  \n",
    "3.\tDemonstrate how markets function and what happens in the presence of market failures.  \n",
    "4.\tAnalyse the different types of market structures such as monopoly and a competitive market.  \n",
    "5.\tDetermine how economic growth, unemployment and inflation macroeconomics affects the economy of the nation in the short and long-run.  \n",
    "6.\tDiscover the determinants of foreign trade flows and exchange rates, and their effects on the domestic economy.  "
   ]
  },
  {
   "cell_type": "markdown",
   "metadata": {},
   "source": [
    "<table width=\"102%\">\n",
    "<tbody>\n",
    "<tr>\n",
    "<td style=\"text-align: center;\" width=\"7%\">\n",
    "<p><strong>Unit No</strong></p>\n",
    "</td>\n",
    "<td style=\"text-align: center;\" width=\"82%\">\n",
    "<p style=\"text-align: center;\"><strong>Syllabus Content</strong></p>\n",
    "</td>\n",
    "<td style=\"text-align: center;\" width=\"10%\">\n",
    "<p><strong>No of Hours</strong></p>\n",
    "</td>\n",
    "</tr>\n",
    "<tr>\n",
    "<td style=\"text-align: center;\" width=\"7%\">\n",
    "<p><strong>1.</strong></p>\n",
    "</td>\n",
    "<td width=\"82%\">\n",
    "<p><strong>Welcome to Economics, </strong>What Is Economics, and Why Is It Important? Microeconomics and Macroeconomics, How Economists Use Theories and Models to Understand Economic Issues, How To Organize Economies: An Overview of Economic Systems, <strong>Choice in a World of Scarcity</strong>, How Individuals Make Choices Based on Their Budget Constraint , The Production Possibilities Frontier and Social Choices, Confronting Objections to the Economic Approach, <strong>Demand and Supply</strong>: Demand, Supply, and Equilibrium in Markets for Goods and Services, Shifts in Demand and Supply for Goods and Services, Changes in Equilibrium Price and Quantity: The Four-Step Process, Price Ceilings and Price Floors, Demand, Supply, and Efficiency, <strong>Labor and Financial Markets,</strong> Demand and Supply at Work in Labor Markets, Demand and Supply in Financial Markets, The Market System as an Efficient Mechanism for Information.</p>\n",
    "</td>\n",
    "<td style=\"text-align: center;\" width=\"10%\">\n",
    "<p><strong>09</strong></p>\n",
    "</td>\n",
    "</tr>\n",
    "<tr>\n",
    "<td style=\"text-align: center;\" width=\"7%\">\n",
    "<p><strong>2.</strong></p>\n",
    "</td>\n",
    "<td width=\"82%\">\n",
    "<p><strong>Elasticity, </strong>Price Elasticity of Demand and Price Elasticity of Supply, Polar Cases of Elasticity and Constant Elasticity, Elasticity and Pricing, Elasticity in Areas Other Than Price, <strong>Consumer Choices</strong>, Consumption Choices, How Changes in Income and Prices Affect Consumption Choices, Behavioral Economics: An Alternative Framework for Consumer Choice, <strong>Production, Costs, and Industry Structure</strong>, Explicit and Implicit Costs, and Accounting and Economic Profit, Production in the Short Run, Costs in the Short Run, Production in the Long Run, Costs in the Long Run.</p>\n",
    "</td>\n",
    "<td style=\"text-align: center;\" width=\"10%\">\n",
    "<p><strong>08</strong></p>\n",
    "</td>\n",
    "</tr>\n",
    "<tr>\n",
    "<td style=\"text-align: center;\" width=\"7%\">\n",
    "<p><strong>3.</strong></p>\n",
    "</td>\n",
    "<td width=\"82%\">\n",
    "<p><strong>SELF-STUDY</strong></p>\n",
    "<p><strong>Perfect Competition, </strong>Perfect Competition and Why It Matters, How Perfectly Competitive Firms Make Output Decisions, Entry and Exit Decisions in the Long Run, Efficiency in Perfectly Competitive Markets. <strong>Monopoly, </strong>How Monopolies Form: Barriers to Entry, How a Profit-Maximizing Monopoly Chooses Output and Price, <strong>Monopolistic Competition and Oligopoly</strong>, Monopolistic Competition, Oligopoly.</p>\n",
    "</td>\n",
    "<td style=\"text-align: center;\" width=\"10%\">\n",
    "<p><strong>08</strong></p>\n",
    "</td>\n",
    "</tr>\n",
    "<tr>\n",
    "<td style=\"text-align: center;\" width=\"7%\">\n",
    "<p><strong>4.</strong></p>\n",
    "</td>\n",
    "<td width=\"82%\">\n",
    "<p><strong>The Macroeconomic Perspective, </strong>Measuring the Size of the Economy: Gross Domestic Product, Adjusting Nominal Values to Real Values, Tracking Real GDP over Time, Comparing GDP among Countries, How Well GDP Measures the Well-Being of Society, <strong>Economic Growth, </strong>The Relatively Recent Arrival of Economic Growth, Labor Productivity and Economic Growth, Components of Economic Growth, Economic Convergence, <strong>Unemployment, </strong>How Economists Define and Compute Unemployment Rate, Patterns of Unemployment, What Causes Changes in Unemployment over the Short Run, What Causes Changes in Unemployment over the Long Run.</p>\n",
    "</td>\n",
    "<td style=\"text-align: center;\" width=\"10%\">\n",
    "<p><strong>09</strong></p>\n",
    "</td>\n",
    "</tr>\n",
    "<tr>\n",
    "<td style=\"text-align: center;\" width=\"7%\">\n",
    "<p><strong>5.</strong></p>\n",
    "</td>\n",
    "<td width=\"82%\">\n",
    "<p><strong>Inflation, </strong>Tracking Inflation, How to Measure Changes in the Cost of Living, How the U.S. and Other Countries Experience Inflation, The Confusion Over Inflation, Indexing and Its Limitations. <strong>The International Trade and Capital Flows</strong>, Measuring Trade Balances, Trade Balances in Historical and International Context, Trade Balances and Flows of Financial Capital, The National Saving and Investment Identity, The Pros and Cons of Trade Deficits and Surpluses, The Difference between Level of Trade and the Trade Balance.</p>\n",
    "</td>\n",
    "<td style=\"text-align: center;\" width=\"10%\">\n",
    "<p><strong>08</strong></p>\n",
    "</td>\n",
    "</tr>\n",
    "</tbody>\n",
    "</table>"
   ]
  },
  {
   "cell_type": "markdown",
   "metadata": {},
   "source": []
  }
 ],
 "metadata": {
  "kernelspec": {
   "display_name": "Python 3",
   "language": "python",
   "name": "python3"
  },
  "language_info": {
   "codemirror_mode": {
    "name": "ipython",
    "version": 3
   },
   "file_extension": ".py",
   "mimetype": "text/x-python",
   "name": "python",
   "nbconvert_exporter": "python",
   "pygments_lexer": "ipython3",
   "version": "3.7.4"
  }
 },
 "nbformat": 4,
 "nbformat_minor": 2
}
