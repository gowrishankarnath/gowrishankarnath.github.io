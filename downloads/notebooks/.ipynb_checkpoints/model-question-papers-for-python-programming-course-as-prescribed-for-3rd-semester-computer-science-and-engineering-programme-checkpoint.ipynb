{
 "cells": [
  {
   "cell_type": "markdown",
   "metadata": {},
   "source": [
    "You can find the model question papers and question bank for Python programming course prescribed for third semester at the department of Computer Science and Engineering, Dr.Ambedkar Institute of Technology, Bengaluru.  "
   ]
  },
  {
   "cell_type": "markdown",
   "metadata": {},
   "source": [
    "## Model Question Paper 1    \n",
    "\n",
    "Click on the link below to view or download the model question paper 1.   \n",
    "\n",
    "<a href=\"http://www.nbaind.org/\" target = \"_blank\" style=\"color: rgb(6,69,173)\"><font color=\"#0066CC\"> MQP - 1</font></a>"
   ]
  },
  {
   "cell_type": "markdown",
   "metadata": {},
   "source": [
    "## Model Question Paper 2  \n",
    "\n",
    "Click on the link below to view or download the model question paper 2.   \n",
    "\n",
    "<a href=\"http://www.nbaind.org/\" target = \"_blank\" style=\"color: rgb(6,69,173)\"><font color=\"#0066CC\"> MQP - 2</font></a>  "
   ]
  },
  {
   "cell_type": "markdown",
   "metadata": {},
   "source": [
    "## Question Bank  "
   ]
  },
  {
   "cell_type": "markdown",
   "metadata": {},
   "source": [
    "###  Unit 1.    "
   ]
  },
  {
   "cell_type": "markdown",
   "metadata": {},
   "source": [
    "**1.** Explain the different string formats available in Python with examples. `5 Marks`  \n",
    "\n",
    "**2.** Discuss the int(), float(), str(), chr() and complex() type conversion functions with examples. `5 Marks`  \n",
    "\n",
    "**3.** Discuss the ord(), hex(), oct(), complex() and float() type conversion functions with examples. `5 Marks`  \n",
    "\n",
    "**4.** Describe the **is** and **is not** operators and type() function. Also, discuss why Python is called as dynamic and strongly typed language. `5 Marks`  \n",
    "\n",
    "**5.** Illustrate the different types of control flow statements available in Python with flowcharts. `5 Marks`  \n",
    "\n",
    "**6.** Write a Program to Prompt for a Score between 0.0 and 1.0. If the Score is out of range, print an error. If the score is between 0.0 and 1.0, print a grade using the following table   `6 Marks`  \n",
    "  \n",
    "|Score|Grade|\n",
    "|-----|-----|\n",
    "|>= 0.9|A|\n",
    "|>= 0.8|B|\n",
    "|>= 0.7|C|\n",
    "|>= 0.6|D|\n",
    "|< 0.6|F|  \n",
    "  \n",
    "**7.** Write a program to display the fibonacci sequences up to nth term where n is provided by the user. `7 Marks`  \n",
    "\n",
    "**8.** Write a program to repeatedly check for the largest number until the user enters **\"done\"**. `5 Marks`  \n",
    "\n",
    "**9.** Write a program to find the sum of all Odd and Even numbers up to a number specified by the user. `6 Marks`  \n",
    "\n",
    "**10.** Explain the need for **continue** and **break** statements. Write a program to check whether a number is prime or not. Prompt the user for input. `8 Marks`  \n",
    "\n",
    "**11.** Describe the need for catching exceptions using try and except statements. `10 Marks`  \n",
    "\n",
    "**12.** Describe the syntax for the following functions and explain with an example.  \n",
    "a) abs() b) max() c) divmod() d) pow() e) len()  `5 Marks`  "
   ]
  },
  {
   "cell_type": "markdown",
   "metadata": {},
   "source": [
    "###  Unit 2.   "
   ]
  },
  {
   "cell_type": "markdown",
   "metadata": {},
   "source": [
    " **1.** Write Python program to replace comma-separated words with hyphens and print hyphen-separated words in ascending order. `5 Marks`  \n",
    "\n",
    "**2.** Explain the need for Unicodes. `5 Marks`\n",
    "\n",
    "**3.** Discuss the following list functions  \n",
    "a) len() b) sum() c) any() d) all() e) sorted()  `5 Marks`  \n",
    "\n",
    "**4.** Explain the following list methods with an example.\n",
    "a) append() b) extend() c) insert() d) index() e) sort() `5 Marks`\n",
    "\n",
    "**5.** Check if the items in the list are sorted in ascending or descending order and print suitable messages accordingly. Otherwise, print \"Items in list are not sorted\" `7 Marks`"
   ]
  },
  {
   "cell_type": "markdown",
   "metadata": {},
   "source": [
    "###  Unit 3.    "
   ]
  },
  {
   "cell_type": "markdown",
   "metadata": {},
   "source": [
    "**1.** Write Python program to sort words in a sentence in decreasing order of their length. Display the sorted words along with their length. `7 Marks`\n",
    "\n",
    "**2.** Write a function which receives a variable number of strings as arguments. Find unique characters in each string. `6 Marks`"
   ]
  },
  {
   "cell_type": "markdown",
   "metadata": {},
   "source": [
    "###  Unit 4.    "
   ]
  },
  {
   "cell_type": "markdown",
   "metadata": {},
   "source": [
    "\n",
    "\n",
    "\n",
    "**1.** "
   ]
  },
  {
   "cell_type": "markdown",
   "metadata": {},
   "source": [
    "###  Unit 5.    "
   ]
  },
  {
   "cell_type": "markdown",
   "metadata": {},
   "source": [
    "**1.** \n",
    "\n",
    "\n"
   ]
  },
  {
   "cell_type": "markdown",
   "metadata": {},
   "source": [
    "**`NOTE:  Marks allocated to all the questions are tentative. It may vary.`**"
   ]
  }
 ],
 "metadata": {
  "kernelspec": {
   "display_name": "Python 3",
   "language": "python",
   "name": "python3"
  },
  "language_info": {
   "codemirror_mode": {
    "name": "ipython",
    "version": 3
   },
   "file_extension": ".py",
   "mimetype": "text/x-python",
   "name": "python",
   "nbconvert_exporter": "python",
   "pygments_lexer": "ipython3",
   "version": "3.7.3"
  }
 },
 "nbformat": 4,
 "nbformat_minor": 2
}
