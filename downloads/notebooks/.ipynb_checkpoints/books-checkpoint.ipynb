{
 "cells": [
  {
   "cell_type": "markdown",
   "metadata": {},
   "source": [
    "# <font color = black> <b> Below are the books Authored/Co-Authored/Reviewed by me. </b> </font>"
   ]
  },
  {
   "cell_type": "markdown",
   "metadata": {},
   "source": [
    "# <font color = black> <strong> Books Authored/Co-Authored </strong> </font>  \n",
    "## -------------------------------------\n",
    "\n",
    "## <font color = black> Gowrishankar S., Veena A., <b> \"Introduction to Python Programming\",</b> 1st Edition, Published by CRC Press/Taylor and Francis, Boca Raton, USA. (ISBN: 978-0815394372)  </font>  \n",
    "\n",
    "<center><img src=\"images\\page_4_image_1.jpg\" alt=\"Authored Book\" align=\"middle\" height = 250, width = 250></center>\n",
    "\n",
    "## <font color = black> <b> Book Purchase </b> </font>  \n",
    "You can purchase the book at the following sources. **(Click on the image to buy)**  \n",
    "\n",
    "<center><a href=\"https://www.amazon.in/dp/0367410176/ref=cm_sw_em_r_mt_dp_U_AGlKDb2XSZ3XM\" target=\"_blank\" style=\"color: rgb(6,69,173)\"><img src=\"images\\page_4_image_2.jpg\" width=\"300\" height=\"100\" alt=\"amazon india\"></a></center>  \n",
    "\n",
    "<center><a href=\"https://www.amazon.in/dp/0367410176/ref=cm_sw_em_r_mt_dp_U_AGlKDb2XSZ3XM\" target=\"_blank\" style=\"color: rgb(6,69,173)\"><img src=\"images\\page_4_image_3.jpg\" width=\"300\" height=\"100\" alt=\"flipkart\"></a></center>  \n",
    "\n",
    "<center><a href=\"http://www.amazon.com/dp/0815394373\" target=\"_blank\" style=\"color: rgb(6,69,173)\"><img src=\"images\\page_4_image_13.jpg\" width=\"300\" height=\"100\" alt=\"amazon usa\" align = \"middle\"></a></center>  \n",
    "\n",
    "<center><a href=\"https://www.crcpress.com/Introduction-to-Python-Programming/S-A/p/book/9780815394372\" target=\"_blank\" style=\"color: rgb(6,69,173)\"><img src=\"images\\page_4_image_14.jpg\" width=\"300\" height=\"100\" alt=\"crcpress\" align = \"middle\"></a></center>"
   ]
  },
  {
   "cell_type": "markdown",
   "metadata": {},
   "source": [
    "# <font color = black> <strong> Books Reviewed </strong></font>\n",
    "## --------------------\n",
    "\n",
    "## <font color = black> <b> \"Hands-On Recommendation Systems with Python\",</b> 1st Edition, Packt Publishing Ltd, Birmingham, United Kingdom, 2018. (ISBN: 978-1788993753) </font>\n",
    "<center><img src=\"images\\page_4_image_6.jpg\" alt=\"Authored Book\" align=\"middle\" height = 250, width = 250></center>"
   ]
  },
  {
   "cell_type": "markdown",
   "metadata": {},
   "source": [
    "## <font color = black> <b> \"Programming and Problem Solving in Python\",</b> 1st Edition, McGraw Hill Education (India) Private Limited, Noida, India, 2017. (ISBN: 978-9351343080) </font>\n",
    "<center><img src=\"images\\page_4_image_7.jpg\" alt=\"Authored Book\" align=\"middle\" height = 250, width = 250></center>"
   ]
  },
  {
   "cell_type": "markdown",
   "metadata": {},
   "source": [
    "## <font color = black> <b> \"Python Penetration Testing Cookbook\",</b> 1st Edition, Packt Publishing Ltd, Birmingham, United Kingdom, 2017. (ISBN: 978-1784399771) </font>\n",
    "<center><img src=\"images\\page_4_image_8.jpg\" alt=\"Authored Book\" align=\"middle\" height = 250, width = 250></center>"
   ]
  },
  {
   "cell_type": "markdown",
   "metadata": {},
   "source": [
    "## <font color = black> <b> \"Internet of Things – Architecture and Design Principles\",</b> 1st Edition, McGraw Hill Education (India) Private Limited, Noida, India, 2017. (ISBN: 978-9352605224) </font>\n",
    "<center><img src=\"images\\page_4_image_9.jpg\" alt=\"Authored Book\" align=\"middle\" height = 250, width = 250></center>"
   ]
  },
  {
   "cell_type": "markdown",
   "metadata": {},
   "source": [
    "## <font color = black> <b> \"Python Network Programming Cookbook\",</b> 2nd Edition, Packt Publishing Ltd, Birmingham, United Kingdom, 2017. (ISBN: 978-1786463999) </font>\n",
    "<center><img src=\"images\\page_4_image_10.jpg\" alt=\"Authored Book\" align=\"middle\" height = 250, width = 250></center>"
   ]
  },
  {
   "cell_type": "markdown",
   "metadata": {},
   "source": [
    "## <font color = black> <b> \"Big Data Management and Analytics\",</b> 1st Edition, Cengage Learning India Private Limited, Delhi, India 2017. (ISBN: 978-8131532201) </font>\n",
    "<center><img src=\"images\\page_4_image_11.jpg\" alt=\"Authored Book\" align=\"middle\" height = 250, width = 250></center>"
   ]
  },
  {
   "cell_type": "markdown",
   "metadata": {},
   "source": [
    "## <font color = black> <b>\"Internet of Things\",</b> 1st Edition, Cengage Learning India Private Limited, Delhi, India 2017. (ISBN: 978-9386858955) </font>\n",
    "<center><img src=\"images\\page_4_image_12.jpg\" alt=\"Authored Book\" align=\"middle\" height = 250, width = 250></center>"
   ]
  }
 ],
 "metadata": {
  "kernelspec": {
   "display_name": "Python 3",
   "language": "python",
   "name": "python3"
  },
  "language_info": {
   "codemirror_mode": {
    "name": "ipython",
    "version": 3
   },
   "file_extension": ".py",
   "mimetype": "text/x-python",
   "name": "python",
   "nbconvert_exporter": "python",
   "pygments_lexer": "ipython3",
   "version": "3.7.3"
  }
 },
 "nbformat": 4,
 "nbformat_minor": 2
}
