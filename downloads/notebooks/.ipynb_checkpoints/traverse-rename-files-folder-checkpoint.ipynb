{
 "cells": [
  {
   "cell_type": "markdown",
   "metadata": {},
   "source": [
    "I recently encountered a problem wherein I had to traverse through all the files in a folder and rename each file.    \n",
    "\n",
    "The original files is as shown below having a set of characters and the number separated by an \"-\" (hyphen) with jpg extension.   \n",
    "\n",
    "**d6445cef9361a2bf-1.jpg**  \n",
    "\n",
    "**d6445cef9361a2bf-2.jpg**  \n",
    "\n",
    "**d6445cef9361a2bf-3.jpg and so on.**  \n",
    "\n",
    "Here, the requirement was to remove the left part of the “-” (hyphen) and retain only the number and the extension.  \n",
    "\n",
    "So, here is my approach.  "
   ]
  },
  {
   "cell_type": "code",
   "execution_count": 1,
   "metadata": {},
   "outputs": [
    {
     "name": "stdout",
     "output_type": "stream",
     "text": [
      "Enter the Path: C:\\Test_Data\\Images\n"
     ]
    }
   ],
   "source": [
    "from glob import glob\n",
    "import os\n",
    " \n",
    "pathFromUser = input(\"Enter the Path: \")\n",
    "files_list = glob(os.path.join(pathFromUser, '*.jpg'))\n",
    "for each_file in files_list:\n",
    "    number = os.path.basename(each_file).split(\"-\")[1].split(\".\")[0]\n",
    "    os.rename(each_file, number + \".jpg\")"
   ]
  },
  {
   "cell_type": "markdown",
   "metadata": {},
   "source": [
    "In line 4, we ask the user to enter the path for the folder which contains all the files.  \n",
    "\n",
    "In line 5, a list of all the files in the folder is assigned to the list called _files_list_. One should be aware that it’s not only the filename but a combination of both path and filename i.e., C:\\foldername\\d6445cef9361a2bf-1.jpg.  \n",
    "\n",
    "In line 6, we loop through each file in the list.  \n",
    "\n",
    "In line 7, the _basename()_ method is used to obtain the name of the file from the path and then we split the filename based on \"-\" (hyphen) and we again split the resultant value based on \".\" (dot). This line results in a number present in the file and is assigned to the variable number.  \n",
    "\n",
    "Then we use the method _rename()_ to rename each file to the value that is present in the number.  "
   ]
  }
 ],
 "metadata": {
  "kernelspec": {
   "display_name": "Python 3",
   "language": "python",
   "name": "python3"
  },
  "language_info": {
   "codemirror_mode": {
    "name": "ipython",
    "version": 3
   },
   "file_extension": ".py",
   "mimetype": "text/x-python",
   "name": "python",
   "nbconvert_exporter": "python",
   "pygments_lexer": "ipython3",
   "version": "3.7.3"
  }
 },
 "nbformat": 4,
 "nbformat_minor": 2
}
