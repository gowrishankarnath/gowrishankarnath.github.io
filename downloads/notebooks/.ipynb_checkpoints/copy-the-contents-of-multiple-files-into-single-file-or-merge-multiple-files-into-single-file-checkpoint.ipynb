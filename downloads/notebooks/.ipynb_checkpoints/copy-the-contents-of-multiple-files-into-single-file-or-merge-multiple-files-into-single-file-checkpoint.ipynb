{
 "cells": [
  {
   "cell_type": "markdown",
   "metadata": {},
   "source": [
    "### <font color = black> <strong> Problem:  </strong> </font>  \n",
    "\n",
    "I was facing a situation wherein I had hundreds of files lying around and had to take printout of all the files. Having to take printout of each and every file proved to be nightmare.  \n",
    "\n",
    "#### <font color = black> <strong>Solution:   </strong> </font>"
   ]
  },
  {
   "cell_type": "markdown",
   "metadata": {},
   "source": [
    "The solution was to merge all the files into a single file or copy the contents of multiple files into single file.  \n",
    "\n",
    "Before issuing these commands at the command prompt change to the directory where all the files are present.  "
   ]
  },
  {
   "cell_type": "markdown",
   "metadata": {},
   "source": [
    "The code shown below copies the contents from all the files ending with _.py_ extension into a new file called _mergedFile.doc_. The reason I created a word doc file is, it’ll be easier to take printout and had no reason to think otherwise.  "
   ]
  },
  {
   "cell_type": "markdown",
   "metadata": {},
   "source": [
    "`\n",
    "copy /b *.py mergedFile.doc\n",
    "`"
   ]
  },
  {
   "cell_type": "markdown",
   "metadata": {},
   "source": [
    "To merge multiple text files into a single document file the command used is given below.  "
   ]
  },
  {
   "cell_type": "markdown",
   "metadata": {},
   "source": [
    "`\n",
    "copy /b *.txt mergedFile.doc\n",
    "`"
   ]
  },
  {
   "cell_type": "markdown",
   "metadata": {},
   "source": [
    "To merge multiple text files into a single text file the command used is given below."
   ]
  },
  {
   "cell_type": "markdown",
   "metadata": {},
   "source": [
    "`\n",
    "copy /b *.txt mergedFile.txt\n",
    "`"
   ]
  },
  {
   "cell_type": "markdown",
   "metadata": {},
   "source": [
    "To merge multiple java files into a single document file the command used is given below."
   ]
  },
  {
   "cell_type": "markdown",
   "metadata": {},
   "source": [
    "`\n",
    "copy /b *.java mergedFile.doc\n",
    "`"
   ]
  },
  {
   "cell_type": "markdown",
   "metadata": {},
   "source": [
    "Code shown here is tested on Windows 7/8/10 machine."
   ]
  }
 ],
 "metadata": {
  "kernelspec": {
   "display_name": "Python 3",
   "language": "python",
   "name": "python3"
  },
  "language_info": {
   "codemirror_mode": {
    "name": "ipython",
    "version": 3
   },
   "file_extension": ".py",
   "mimetype": "text/x-python",
   "name": "python",
   "nbconvert_exporter": "python",
   "pygments_lexer": "ipython3",
   "version": "3.7.4"
  }
 },
 "nbformat": 4,
 "nbformat_minor": 2
}
