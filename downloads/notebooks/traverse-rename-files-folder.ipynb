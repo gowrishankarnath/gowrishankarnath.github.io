{
 "cells": [
  {
   "cell_type": "markdown",
   "metadata": {},
   "source": []
  },
  {
   "cell_type": "code",
   "execution_count": 1,
   "metadata": {},
   "outputs": [
    {
     "name": "stdout",
     "output_type": "stream",
     "text": [
      "Enter the Path: C:\\Test_Data\\Images\n"
     ]
    }
   ],
   "source": []
  },
  {
   "cell_type": "markdown",
   "metadata": {},
   "source": [
    "In line 4, we ask the user to enter the path for the folder which contains all the files.  \n",
    "\n",
    "In line 5, a list of all the files in the folder is assigned to the list called _files_list_. One should be aware that it’s not only the filename but a combination of both path and filename i.e., C:\\foldername\\d6445cef9361a2bf-1.jpg.  \n",
    "\n",
    "In line 6, we loop through each file in the list.  \n",
    "\n",
    "In line 7, the _basename()_ method is used to obtain the name of the file from the path and then we split the filename based on \"-\" (hyphen) and we again split the resultant value based on \".\" (dot). This line results in a number present in the file and is assigned to the variable number.  \n",
    "\n",
    "Then we use the method _rename()_ to rename each file to the value that is present in the number.  "
   ]
  }
 ],
 "metadata": {
  "kernelspec": {
   "display_name": "Python 3",
   "language": "python",
   "name": "python3"
  },
  "language_info": {
   "codemirror_mode": {
    "name": "ipython",
    "version": 3
   },
   "file_extension": ".py",
   "mimetype": "text/x-python",
   "name": "python",
   "nbconvert_exporter": "python",
   "pygments_lexer": "ipython3",
   "version": "3.8.5"
  }
 },
 "nbformat": 4,
 "nbformat_minor": 2
}
