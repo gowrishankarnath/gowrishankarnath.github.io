{
 "cells": [
  {
   "cell_type": "markdown",
   "metadata": {},
   "source": [
    "You will find the model question papers for the Internet of Things (IoT) course prescribed for eighth semester at the department of Computer Science and Engineering, Dr.Ambedkar Institute of Technology, Bengaluru."
   ]
  },
  {
   "cell_type": "markdown",
   "metadata": {},
   "source": [
    "## <font color = black> <strong> Model Question Paper 1  </strong> </font>\n",
    "\n",
    "Click on the link below to view or download the model question paper 1.  \n",
    "\n",
    "<a href=\"https://github.com/gowrishankarnath/IoT_MQPs/raw/master/IoT_ELE_Model_Question_Paper_1.doc\" target = \"_blank\" style=\"color: rgb(6,69,173)\"><font color=\"#0066CC\"> MQP - 1</font></a>"
   ]
  },
  {
   "cell_type": "markdown",
   "metadata": {},
   "source": [
    "## <font color = black> <strong> Model Question Paper 2  </strong> </font>   \n",
    "\n",
    "Click on the link below to view or download the model question paper 2.  \n",
    "\n",
    "<a href=\"https://github.com/gowrishankarnath/IoT_MQPs/raw/master/IoT_ELE_Model_Question_Paper_2.doc\" target = \"_blank\" style=\"color: rgb(6,69,173)\"><font color=\"#0066CC\"> MQP - 2</font></a>"
   ]
  },
  {
   "cell_type": "markdown",
   "metadata": {},
   "source": [
    "## <font color = black> <strong> Model Question Paper 3  </strong> </font>    \n",
    "\n",
    "Click on the link below to view or download the model question paper 3.  \n",
    "\n",
    "<a href=\"https://github.com/gowrishankarnath/IoT_MQPs/raw/master/IoT_ELE_Model_Question_Paper_3.doc\" target = \"_blank\" style=\"color: rgb(6,69,173)\"><font color=\"#0066CC\"> MQP - 3</font></a>"
   ]
  },
  {
   "cell_type": "markdown",
   "metadata": {},
   "source": [
    "**`NOTE: Marks allocated to all the questions are tentative. It may vary.`**"
   ]
  }
 ],
 "metadata": {
  "kernelspec": {
   "display_name": "Python 3",
   "language": "python",
   "name": "python3"
  },
  "language_info": {
   "codemirror_mode": {
    "name": "ipython",
    "version": 3
   },
   "file_extension": ".py",
   "mimetype": "text/x-python",
   "name": "python",
   "nbconvert_exporter": "python",
   "pygments_lexer": "ipython3",
   "version": "3.7.3"
  }
 },
 "nbformat": 4,
 "nbformat_minor": 2
}
