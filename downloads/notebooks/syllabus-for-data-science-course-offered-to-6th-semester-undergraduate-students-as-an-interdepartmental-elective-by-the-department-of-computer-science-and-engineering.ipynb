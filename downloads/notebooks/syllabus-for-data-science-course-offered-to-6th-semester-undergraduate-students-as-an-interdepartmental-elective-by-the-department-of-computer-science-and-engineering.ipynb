{
 "metadata": {
  "language_info": {
   "codemirror_mode": {
    "name": "ipython",
    "version": 3
   },
   "file_extension": ".py",
   "mimetype": "text/x-python",
   "name": "python",
   "nbconvert_exporter": "python",
   "pygments_lexer": "ipython3",
   "version": 3
  },
  "orig_nbformat": 2
 },
 "nbformat": 4,
 "nbformat_minor": 2,
 "cells": [
  {
   "cell_type": "markdown",
   "metadata": {},
   "source": [
    "This is the syllabus for **Data Science** course offered to 6th Semester Undergraduate students as an InterDepartmental Elective (IDE) by the Department of Computer Science and Engineering starting from the year 2021 at Dr.Ambedkar Institute of Technology (Dr.AIT), Bengaluru, Karnataka, India."
   ]
  },
  {
   "cell_type": "markdown",
   "metadata": {},
   "source": [
    "**Course Title: Data Science**  \n",
    "**Course Code: 18CSE024**  \n",
    "**Exam Duration: 3 hours**  \n",
    "**No. of Credits: 3 = 3: 0: 0 (L: T: P)**  \n",
    "**No. of lecture hours/week: 3 Hours**  \n",
    "**Total No. of Contact Hours: 42 Hours**  "
   ]
  },
  {
   "cell_type": "markdown",
   "metadata": {},
   "source": [
    "### Course Objectives:  \n",
    "\n",
    "1. Determine the appropriate natural language processing, machine learning and deep learning models to solve the business-related challenges. \n",
    "2. Indicate proficiency with statistical analysis of data to derive insight from results and interpret the data findings visually.\n",
    "3. Demonstrate skills in data management by obtaining, cleaning and transforming the data.\n",
    "4. Discuss how social networks appraise the ways in which the social clustering shape individuals and groups in contemporary society."
   ]
  },
  {
   "cell_type": "markdown",
   "metadata": {},
   "source": [
    "<style type=\"text/css\">\n",
    ".tg  {border-collapse:collapse;border-spacing:0;}\n",
    ".tg td{border-color:black;border-style:solid;border-width:1px;font-family:Arial, sans-serif;font-size:14px;\n",
    "  overflow:hidden;padding:10px 5px;word-break:normal;}\n",
    ".tg th{border-color:black;border-style:solid;border-width:1px;font-family:Arial, sans-serif;font-size:14px;\n",
    "  font-weight:normal;overflow:hidden;padding:10px 5px;word-break:normal;}\n",
    ".tg .tg-fzq1{border-color:inherit;font-family:Arial, Helvetica, sans-serif !important;;font-size:16px;text-align:left;\n",
    "  vertical-align:top}\n",
    ".tg .tg-288q{border-color:inherit;font-family:Arial, Helvetica, sans-serif !important;;font-size:16px;font-weight:bold;\n",
    "  text-align:center;vertical-align:top}\n",
    ".tg .tg-54vp{border-color:inherit;font-family:Arial, Helvetica, sans-serif !important;;font-size:16px;text-align:center;\n",
    "  vertical-align:top}\n",
    "</style>\n",
    "<table class=\"tg\">\n",
    "<thead>\n",
    "  <tr>\n",
    "    <th class=\"tg-288q\">   <br>Unit <br>No </th>\n",
    "    <th class=\"tg-54vp\">   <br><span style=\"font-weight:bold\">Syllabus Content</span><br>   <br>    </th>\n",
    "    <th class=\"tg-288q\">   <br>No of <br>Hours</th>\n",
    "  </tr>\n",
    "</thead>\n",
    "<tbody>\n",
    "  <tr>\n",
    "    <td class=\"tg-288q\">&nbsp;&nbsp;&nbsp;<br>1.&nbsp;&nbsp;&nbsp;</td>\n",
    "    <td class=\"tg-fzq1\">   <br><span style=\"font-weight:bold\">Visualizing Data,</span> matplotlib, Bar Charts, Line Charts, Scatterplots, <span style=\"font-weight:bold\">Linear Algebra,</span> Vectors, Matrices, <span style=\"font-weight:bold\">Statistics,</span> Describing a Single Set of Data, Correlation, Simpson’s Paradox, Some Other Correlational Caveats, Correlation   and Causation, <span style=\"font-weight:bold\">Probability,</span> Dependence and Independence, Conditional   Probability, Bayes’s Theorem, Random Variables, Continuous Distributions, The   Normal Distribution, The Central Limit Theorem.   </td>\n",
    "    <td class=\"tg-288q\">&nbsp;&nbsp;&nbsp;<br>08&nbsp;&nbsp;&nbsp;</td>\n",
    "  </tr>\n",
    "  <tr>\n",
    "    <td class=\"tg-288q\">&nbsp;&nbsp;&nbsp;<br>2.&nbsp;&nbsp;&nbsp;</td>\n",
    "    <td class=\"tg-fzq1\">   <br><span style=\"font-weight:bold\">Hypothesis and Inference,</span> Statistical Hypothesis Testing, Example: Flipping a Coin, p-Values, Confidence Intervals, p-Hacking, Example: Running an A/B Test, Bayesian Inference, <span style=\"font-weight:bold\">Gradient Descent, </span>The Idea Behind Gradient Descent Estimating the Gradient, Using the Gradient, Choosing the Right Step Size, Using Gradient Descent to Fit Models, Minibatch and Stochastic Gradient Descent, <span style=\"font-weight:bold\">Getting Data,</span> stdin and stdout, Reading Files, Scraping the Web, Using APIs, Example: Using the Twitter APIs, <span style=\"font-weight:bold\">Working with Data,</span> Exploring Your Data, Using NamedTuples, Dataclasses, Cleaning and Munging, Manipulating   Data, Rescaling, An Aside: tqdm, Dimensionality Reduction.    </td>\n",
    "    <td class=\"tg-288q\">&nbsp;&nbsp;&nbsp;<br>08&nbsp;&nbsp;&nbsp;</td>\n",
    "  </tr>\n",
    "  <tr>\n",
    "    <td class=\"tg-288q\">&nbsp;&nbsp;&nbsp;<br>3.&nbsp;&nbsp;&nbsp;</td>\n",
    "    <td class=\"tg-fzq1\">   <br><span style=\"font-weight:bold\">Machine Learning,</span> Modeling, What Is Machine Learning?, Overfitting and Underfitting, Correctness, The Bias-Variance Tradeoff, Feature Extraction and Selection, <span style=\"font-weight:bold\">k-Nearest Neighbors,</span> The Model, Example: The Iris Dataset, The Curse of Dimensionality, <span style=\"font-weight:bold\">Naive Bayes, </span>A Really Dumb Spam Filter, A  More Sophisticated Spam Filter, Implementation, Testing Our Model, Using Our Model, <span style=\"font-weight:bold\">Simple Linear Regression,</span> The Model, Using Gradient Descent, Maximum Likelihood Estimation, <span style=\"font-weight:bold\">Multiple Regression,</span> The Model, Further Assumptions of the Least Squares Model, Fitting the Model, Interpreting the Model, Goodness of Fit, Digression: The Bootstrap, Standard Errors of Regression Coefficients, Regularization, <span style=\"font-weight:bold\">Logistic Regression,</span> The Problem, The Logistic Function, Applying the   Model, Goodness of Fit, Support Vector Machines.   </td>\n",
    "    <td class=\"tg-288q\">&nbsp;&nbsp;&nbsp;<br>09&nbsp;&nbsp;&nbsp;</td>\n",
    "  </tr>\n",
    "  <tr>\n",
    "    <td class=\"tg-288q\">&nbsp;&nbsp;&nbsp;<br>4.&nbsp;&nbsp;&nbsp;</td>\n",
    "    <td class=\"tg-fzq1\">   <br><span style=\"font-weight:bold\">Decision Trees,</span> What Is a Decision Tree?, Entropy, The Entropy of a Partition, Creating a Decision Tree, Putting It All Together, Random Forests, <span style=\"font-weight:bold\">Neural Networks,</span> Perceptrons, Feed-Forward Neural Networks, Backpropagation, Example: Fizz Buzz,  <span style=\"font-weight:bold\">Deep Learning,</span> The Tensor, The Layer Abstraction, The Linear Layer, Neural Networks as a Sequence of Layers, Loss and Optimization, Example: XOR Revisited, Other Activation Functions, Example: FizzBuzz Revisited, Softmaxes   and Cross-Entropy, Dropout, Example: MNIST, Saving and Loading Models, <span style=\"font-weight:bold\">Clustering,</span> The Idea, The Model, Example: Meetups, Choosing k, Example: Clustering Colors, Bottom-Up Hierarchical Clustering.  </td>\n",
    "    <td class=\"tg-288q\">&nbsp;&nbsp;&nbsp;<br>09&nbsp;&nbsp;&nbsp;</td>\n",
    "  </tr>\n",
    "  <tr>\n",
    "    <td class=\"tg-288q\">&nbsp;&nbsp;&nbsp;<br>5.&nbsp;&nbsp;&nbsp;</td>\n",
    "    <td class=\"tg-fzq1\"><span style=\"font-weight:bold\">SELF-STUDY</span><br>   <br><span style=\"font-weight:bold\">Natural Language Processing,</span> Word Clouds, n-Gram Language Models, Grammars, An Aside: Gibbs Sampling, Topic Modeling, Word Vectors, Recurrent Neural Networks, Example: Using a Character-Level RNN, <span style=\"font-weight:bold\">Network Analysis,</span> Betweenness Centrality, Eigenvector Centrality, Directed Graphs and PageRank, <span style=\"font-weight:bold\">Recommender Systems,</span> Manual Curation,   Recommending What’s Popular, User-Based Collaborative Filtering, Item-Based   Collaborative Filtering, Matrix Factorization.   </td>\n",
    "    <td class=\"tg-288q\">&nbsp;&nbsp;&nbsp;<br>08&nbsp;&nbsp;&nbsp;</td>\n",
    "  </tr>\n",
    "</tbody>\n",
    "</table>"
   ]
  },
  {
   "cell_type": "markdown",
   "metadata": {},
   "source": [
    "### Course Outcomes"
   ]
  },
  {
   "cell_type": "markdown",
   "metadata": {},
   "source": [
    "<style type=\"text/css\">\n",
    ".tg  {border-collapse:collapse;border-spacing:0;}\n",
    ".tg td{border-color:black;border-style:solid;border-width:1px;font-family:Arial, sans-serif;font-size:14px;\n",
    "  overflow:hidden;padding:10px 5px;word-break:normal;}\n",
    ".tg th{border-color:black;border-style:solid;border-width:1px;font-family:Arial, sans-serif;font-size:14px;\n",
    "  font-weight:normal;overflow:hidden;padding:10px 5px;word-break:normal;}\n",
    ".tg .tg-qht8{font-family:Arial, Helvetica, sans-serif !important;;font-size:16px;text-align:left;vertical-align:top}\n",
    ".tg .tg-qn5d{font-family:Arial, Helvetica, sans-serif !important;;font-size:16px;font-weight:bold;text-align:center;\n",
    "  vertical-align:top}\n",
    "</style>\n",
    "<table class=\"tg\">\n",
    "<thead>\n",
    "  <tr>\n",
    "    <th class=\"tg-qn5d\">Course <br>Outcomes   </th>\n",
    "    <th class=\"tg-qn5d\">&nbsp;&nbsp;&nbsp;<br>Description&nbsp;&nbsp;&nbsp;</th>\n",
    "    <th class=\"tg-qn5d\">   <br>RBT <br>Levels   </th>\n",
    "  </tr>\n",
    "</thead>\n",
    "<tbody>\n",
    "  <tr>\n",
    "    <td class=\"tg-qn5d\">&nbsp;&nbsp;&nbsp;<br>CO1&nbsp;&nbsp;&nbsp;</td>\n",
    "    <td class=\"tg-qht8\">&nbsp;&nbsp;&nbsp;<br>Interpret the concepts and methods&nbsp;&nbsp;&nbsp;of mathematical disciplines relevant to data analytics and statistical modeling.&nbsp;&nbsp;&nbsp;</td>\n",
    "    <td class=\"tg-qn5d\">&nbsp;&nbsp;&nbsp;<br>L3&nbsp;&nbsp;&nbsp;</td>\n",
    "  </tr>\n",
    "  <tr>\n",
    "    <td class=\"tg-qn5d\">&nbsp;&nbsp;&nbsp;<br>CO2&nbsp;&nbsp;&nbsp;</td>\n",
    "    <td class=\"tg-qht8\">&nbsp;&nbsp;&nbsp;<br>Examine, visualize, curate, and&nbsp;&nbsp;&nbsp;prepare data and recognize how the quality of the data and the means of data&nbsp;&nbsp;&nbsp;collection may affect interpretation.&nbsp;&nbsp;&nbsp;</td>\n",
    "    <td class=\"tg-qn5d\">&nbsp;&nbsp;&nbsp;<br>L3&nbsp;&nbsp;&nbsp;</td>\n",
    "  </tr>\n",
    "  <tr>\n",
    "    <td class=\"tg-qn5d\">&nbsp;&nbsp;&nbsp;<br>CO3&nbsp;&nbsp;&nbsp;</td>\n",
    "    <td class=\"tg-qht8\">&nbsp;&nbsp;&nbsp;<br>Determine the machine learning, deep learning and natural&nbsp;&nbsp;&nbsp;language processing skills to design and implement efficient, data-driven&nbsp;&nbsp;&nbsp;solutions for real world problems.&nbsp;&nbsp;&nbsp;</td>\n",
    "    <td class=\"tg-qn5d\">&nbsp;&nbsp;&nbsp;<br>L3&nbsp;&nbsp;&nbsp;</td>\n",
    "  </tr>\n",
    "  <tr>\n",
    "    <td class=\"tg-qn5d\">&nbsp;&nbsp;&nbsp;<br>CO4&nbsp;&nbsp;&nbsp;</td>\n",
    "    <td class=\"tg-qht8\">&nbsp;&nbsp;&nbsp;<br>Illustrate how network analysis and&nbsp;&nbsp;&nbsp;recommender systems can contribute to increasing knowledge about diverse&nbsp;&nbsp;&nbsp;aspects of societal clustering.&nbsp;&nbsp;&nbsp;</td>\n",
    "    <td class=\"tg-qn5d\">&nbsp;&nbsp;&nbsp;<br>L3&nbsp;&nbsp;&nbsp;</td>\n",
    "  </tr>\n",
    "</tbody>\n",
    "</table>"
   ]
  },
  {
   "cell_type": "markdown",
   "metadata": {},
   "source": [
    "### Course Articulation Matrix (CO-PO Mapping)"
   ]
  },
  {
   "cell_type": "markdown",
   "metadata": {},
   "source": [
    "<style type=\"text/css\">\n",
    ".tg  {border-collapse:collapse;border-spacing:0;}\n",
    ".tg td{border-color:black;border-style:solid;border-width:1px;font-family:Arial, sans-serif;font-size:14px;\n",
    "  overflow:hidden;padding:10px 5px;word-break:normal;}\n",
    ".tg th{border-color:black;border-style:solid;border-width:1px;font-family:Arial, sans-serif;font-size:14px;\n",
    "  font-weight:normal;overflow:hidden;padding:10px 5px;word-break:normal;}\n",
    ".tg .tg-b465{font-family:Arial, Helvetica, sans-serif !important;;font-size:16px;font-weight:bold;text-align:left;vertical-align:top\n",
    "  }\n",
    ".tg .tg-qn5d{font-family:Arial, Helvetica, sans-serif !important;;font-size:16px;font-weight:bold;text-align:center;\n",
    "  vertical-align:top}\n",
    ".tg .tg-480y{font-family:Arial, Helvetica, sans-serif !important;;font-size:16px;text-align:center;vertical-align:top}\n",
    "</style>\n",
    "<table class=\"tg\">\n",
    "<thead>\n",
    "  <tr>\n",
    "    <th class=\"tg-qn5d\">   <br>CO-PO <br>Mapping   </th>\n",
    "    <th class=\"tg-qn5d\">&nbsp;&nbsp;&nbsp;<br>PO1&nbsp;&nbsp;&nbsp;</th>\n",
    "    <th class=\"tg-qn5d\">&nbsp;&nbsp;&nbsp;<br>PO2&nbsp;&nbsp;&nbsp;</th>\n",
    "    <th class=\"tg-qn5d\">&nbsp;&nbsp;&nbsp;<br>PO3&nbsp;&nbsp;&nbsp;</th>\n",
    "    <th class=\"tg-qn5d\">&nbsp;&nbsp;&nbsp;<br>PO4&nbsp;&nbsp;&nbsp;</th>\n",
    "    <th class=\"tg-qn5d\">&nbsp;&nbsp;&nbsp;<br>PO5&nbsp;&nbsp;&nbsp;</th>\n",
    "    <th class=\"tg-qn5d\">&nbsp;&nbsp;&nbsp;<br>PO6&nbsp;&nbsp;&nbsp;</th>\n",
    "    <th class=\"tg-qn5d\">&nbsp;&nbsp;&nbsp;<br>PO7&nbsp;&nbsp;&nbsp;</th>\n",
    "    <th class=\"tg-qn5d\">&nbsp;&nbsp;&nbsp;<br>PO8&nbsp;&nbsp;&nbsp;</th>\n",
    "    <th class=\"tg-qn5d\">&nbsp;&nbsp;&nbsp;<br>PO9&nbsp;&nbsp;&nbsp;</th>\n",
    "    <th class=\"tg-qn5d\">&nbsp;&nbsp;&nbsp;<br>PO10&nbsp;&nbsp;&nbsp;</th>\n",
    "    <th class=\"tg-qn5d\">&nbsp;&nbsp;&nbsp;<br>PO11&nbsp;&nbsp;&nbsp;</th>\n",
    "    <th class=\"tg-qn5d\">&nbsp;&nbsp;&nbsp;<br>PO12&nbsp;&nbsp;&nbsp;</th>\n",
    "  </tr>\n",
    "</thead>\n",
    "<tbody>\n",
    "  <tr>\n",
    "    <td class=\"tg-qn5d\">&nbsp;&nbsp;&nbsp;<br>CO1&nbsp;&nbsp;&nbsp;</td>\n",
    "    <td class=\"tg-480y\">&nbsp;&nbsp;&nbsp;<br>3&nbsp;&nbsp;&nbsp;</td>\n",
    "    <td class=\"tg-480y\">&nbsp;&nbsp;&nbsp;<br>3&nbsp;&nbsp;&nbsp;</td>\n",
    "    <td class=\"tg-480y\">&nbsp;&nbsp;&nbsp;<br>2&nbsp;&nbsp;&nbsp;</td>\n",
    "    <td class=\"tg-480y\">&nbsp;&nbsp;&nbsp;<br>2&nbsp;&nbsp;&nbsp;</td>\n",
    "    <td class=\"tg-480y\">&nbsp;&nbsp;&nbsp;<br>3&nbsp;&nbsp;&nbsp;</td>\n",
    "    <td class=\"tg-480y\">&nbsp;&nbsp;&nbsp;<br>-&nbsp;&nbsp;&nbsp;</td>\n",
    "    <td class=\"tg-480y\">&nbsp;&nbsp;&nbsp;<br>-&nbsp;&nbsp;&nbsp;</td>\n",
    "    <td class=\"tg-480y\">&nbsp;&nbsp;&nbsp;<br>-&nbsp;&nbsp;&nbsp;</td>\n",
    "    <td class=\"tg-480y\">&nbsp;&nbsp;&nbsp;<br>-&nbsp;&nbsp;&nbsp;</td>\n",
    "    <td class=\"tg-480y\">&nbsp;&nbsp;&nbsp;<br>-&nbsp;&nbsp;&nbsp;</td>\n",
    "    <td class=\"tg-480y\">&nbsp;&nbsp;&nbsp;<br>-&nbsp;&nbsp;&nbsp;</td>\n",
    "    <td class=\"tg-480y\">&nbsp;&nbsp;&nbsp;<br>-&nbsp;&nbsp;&nbsp;</td>\n",
    "  </tr>\n",
    "  <tr>\n",
    "    <td class=\"tg-qn5d\">&nbsp;&nbsp;&nbsp;<br>CO2&nbsp;&nbsp;&nbsp;</td>\n",
    "    <td class=\"tg-480y\">&nbsp;&nbsp;&nbsp;<br>2&nbsp;&nbsp;&nbsp;</td>\n",
    "    <td class=\"tg-480y\">&nbsp;&nbsp;&nbsp;<br>2&nbsp;&nbsp;&nbsp;</td>\n",
    "    <td class=\"tg-480y\">&nbsp;&nbsp;&nbsp;<br>2&nbsp;&nbsp;&nbsp;</td>\n",
    "    <td class=\"tg-480y\">&nbsp;&nbsp;&nbsp;<br>2&nbsp;&nbsp;&nbsp;</td>\n",
    "    <td class=\"tg-480y\">&nbsp;&nbsp;&nbsp;<br>3&nbsp;&nbsp;&nbsp;</td>\n",
    "    <td class=\"tg-480y\">&nbsp;&nbsp;&nbsp;<br>-&nbsp;&nbsp;&nbsp;</td>\n",
    "    <td class=\"tg-480y\">&nbsp;&nbsp;&nbsp;<br>-&nbsp;&nbsp;&nbsp;</td>\n",
    "    <td class=\"tg-480y\">&nbsp;&nbsp;&nbsp;<br>-&nbsp;&nbsp;&nbsp;</td>\n",
    "    <td class=\"tg-480y\">&nbsp;&nbsp;&nbsp;<br>-&nbsp;&nbsp;&nbsp;</td>\n",
    "    <td class=\"tg-480y\">&nbsp;&nbsp;&nbsp;<br>-&nbsp;&nbsp;&nbsp;</td>\n",
    "    <td class=\"tg-480y\">&nbsp;&nbsp;&nbsp;<br>-&nbsp;&nbsp;&nbsp;</td>\n",
    "    <td class=\"tg-480y\">&nbsp;&nbsp;&nbsp;<br>-&nbsp;&nbsp;&nbsp;</td>\n",
    "  </tr>\n",
    "  <tr>\n",
    "    <td class=\"tg-qn5d\">&nbsp;&nbsp;&nbsp;<br>CO3&nbsp;&nbsp;&nbsp;</td>\n",
    "    <td class=\"tg-480y\">&nbsp;&nbsp;&nbsp;<br>3&nbsp;&nbsp;&nbsp;</td>\n",
    "    <td class=\"tg-480y\">&nbsp;&nbsp;&nbsp;<br>3&nbsp;&nbsp;&nbsp;</td>\n",
    "    <td class=\"tg-480y\">&nbsp;&nbsp;&nbsp;<br>3&nbsp;&nbsp;&nbsp;</td>\n",
    "    <td class=\"tg-480y\">&nbsp;&nbsp;&nbsp;<br>3&nbsp;&nbsp;&nbsp;</td>\n",
    "    <td class=\"tg-480y\">&nbsp;&nbsp;&nbsp;<br>3&nbsp;&nbsp;&nbsp;</td>\n",
    "    <td class=\"tg-480y\">&nbsp;&nbsp;&nbsp;<br>-&nbsp;&nbsp;&nbsp;</td>\n",
    "    <td class=\"tg-480y\">&nbsp;&nbsp;&nbsp;<br>-&nbsp;&nbsp;&nbsp;</td>\n",
    "    <td class=\"tg-480y\">&nbsp;&nbsp;&nbsp;<br>-&nbsp;&nbsp;&nbsp;</td>\n",
    "    <td class=\"tg-480y\">&nbsp;&nbsp;&nbsp;<br>-&nbsp;&nbsp;&nbsp;</td>\n",
    "    <td class=\"tg-480y\">&nbsp;&nbsp;&nbsp;<br>-&nbsp;&nbsp;&nbsp;</td>\n",
    "    <td class=\"tg-480y\">&nbsp;&nbsp;&nbsp;<br>-&nbsp;&nbsp;&nbsp;</td>\n",
    "    <td class=\"tg-480y\">&nbsp;&nbsp;&nbsp;<br>-&nbsp;&nbsp;&nbsp;</td>\n",
    "  </tr>\n",
    "  <tr>\n",
    "    <td class=\"tg-qn5d\">&nbsp;&nbsp;&nbsp;<br>CO4&nbsp;&nbsp;&nbsp;</td>\n",
    "    <td class=\"tg-480y\">&nbsp;&nbsp;&nbsp;<br>3&nbsp;&nbsp;&nbsp;</td>\n",
    "    <td class=\"tg-480y\">&nbsp;&nbsp;&nbsp;<br>2&nbsp;&nbsp;&nbsp;</td>\n",
    "    <td class=\"tg-480y\">&nbsp;&nbsp;&nbsp;<br>2&nbsp;&nbsp;&nbsp;</td>\n",
    "    <td class=\"tg-480y\">&nbsp;&nbsp;&nbsp;<br>2&nbsp;&nbsp;&nbsp;</td>\n",
    "    <td class=\"tg-480y\">&nbsp;&nbsp;&nbsp;<br>3&nbsp;&nbsp;&nbsp;</td>\n",
    "    <td class=\"tg-480y\">&nbsp;&nbsp;&nbsp;<br>-&nbsp;&nbsp;&nbsp;</td>\n",
    "    <td class=\"tg-480y\">&nbsp;&nbsp;&nbsp;<br>-&nbsp;&nbsp;&nbsp;</td>\n",
    "    <td class=\"tg-480y\">&nbsp;&nbsp;&nbsp;<br>-&nbsp;&nbsp;&nbsp;</td>\n",
    "    <td class=\"tg-480y\">&nbsp;&nbsp;&nbsp;<br>-&nbsp;&nbsp;&nbsp;</td>\n",
    "    <td class=\"tg-480y\">&nbsp;&nbsp;&nbsp;<br>-&nbsp;&nbsp;&nbsp;</td>\n",
    "    <td class=\"tg-480y\">&nbsp;&nbsp;&nbsp;<br>-&nbsp;&nbsp;&nbsp;</td>\n",
    "    <td class=\"tg-480y\">&nbsp;&nbsp;&nbsp;<br>-&nbsp;&nbsp;&nbsp;</td>\n",
    "  </tr>\n",
    "  <tr>\n",
    "    <td class=\"tg-b465\" colspan=\"13\"> Strong   -3        Medium -2         Weak -1</td>\n",
    "  </tr>\n",
    "</tbody>\n",
    "</table>"
   ]
  },
  {
   "cell_type": "markdown",
   "metadata": {},
   "source": [
    "### TEXT BOOKS:"
   ]
  },
  {
   "cell_type": "markdown",
   "metadata": {},
   "source": [
    "1. Joel Grus, **“Data Science from Scratch”,** 2nd Edition, O’Reilly Publications/Shroff Publishers and Distributors Pvt. Ltd., 2019. ISBN-13: 978-9352138326. "
   ]
  },
  {
   "cell_type": "markdown",
   "metadata": {},
   "source": [
    "### REFERENCE BOOKS:"
   ]
  },
  {
   "cell_type": "markdown",
   "metadata": {},
   "source": [
    "1. Emily Robinson and Jacqueline Nolis, **“Build a Career in Data Science”,** 1st Edition, Manning Publications, 2020. ISBN: 978-1617296246.\n",
    "2. Aurélien Géron, **“Hands-On Machine Learning with Scikit-Learn, Keras, and TensorFlow: Concepts, Tools, and Techniques to Build Intelligent Systems”,** 2nd Edition, O'Reilly Publications/Shroff Publishers and Distributors Pvt. Ltd., 2019. ISBN-13: 978-1492032649.\n",
    "3. François Chollet, **“Deep Learning with Python”,** 1st Edition, Manning Publications, 2017. ISBN-13: 978-1617294433\n",
    "4. Jeremy Howard and Sylvain Gugger, **“Deep Learning for Coders with fastai and PyTorch”,** 1st Edition, O'Reilly Publications/Shroff Publishers and Distributors Pvt. Ltd., 2020. ISBN-13: 978-1492045526.\n",
    "5. Sebastian Raschka and Vahid Mirjalili, **“Python Machine Learning: Machine Learning and Deep Learning with Python, scikit-learn, and TensorFlow 2”,** 3rd Edition, 2019. ISBN-13: 978-1789955750\n"
   ]
  },
  {
   "cell_type": "markdown",
   "metadata": {},
   "source": [
    "### SELF-STUDY REFERENCES/WEBLINKS:"
   ]
  },
  {
   "cell_type": "markdown",
   "metadata": {},
   "source": [
    "1. **Natural Language Processing**  \n",
    "https://www.youtube.com/watch?v=xvqsFTUsOmc\n",
    "2. **Network Analysis**  \n",
    "https://www.youtube.com/watch?v=K5xiFDClgjo \n",
    "3. **Recommender Systems**  \n",
    "https://www.youtube.com/watch?v=39vJRxIPSxw\n"
   ]
  }
 ]
}