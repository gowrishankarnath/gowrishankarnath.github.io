{
 "cells": [
  {
   "cell_type": "markdown",
   "metadata": {},
   "source": [
    "### <font color = black> <strong>Introduction  </strong> </font>\n",
    "Recently, I had a requirement to fill the database with some data. Filling the tables manually proved to be very tedious enough. So, I was looking for some software that could do the heavy lifting for me and also that could be used with Python natively. Voila!! After a bit of search came across this awesome software.  \n",
    "\n",
    "<p align=\"center\">\n",
    "<b>FAKER</b>\n",
    "</p>\n",
    "\n",
    "Faker can be used to generate fake data which resembles the real world values rather than some gibberish values.  \n",
    "\n",
    "### <font color = black> <strong>Using FAKER With Python   </strong> </font>   \n",
    "\n",
    "The following code has been tested using Python 3.5 on a Windows 10 machine.  \n",
    "\n",
    "Type the below command in the Command Prompt to install Faker module.  \n",
    "\n",
    "<center><img src=\"images\\article_2_image_1.png\" alt=\"faker install\" align=\"middle\" height = 250, width = 350></center>\n",
    "\n",
    "Let’s start with a very simple example.  \n",
    "\n",
    "Import the faker module and make use of the Factory Class. Use create() method to create an object called fake. Say, if you want to print a name then use the object fake along with name() method as shown below.  "
   ]
  },
  {
   "cell_type": "code",
   "execution_count": 4,
   "metadata": {},
   "outputs": [
    {
     "name": "stdout",
     "output_type": "stream",
     "text": [
      "Kathryn Rice\n"
     ]
    }
   ],
   "source": [
    "from faker import Factory\n",
    "fake = Factory.create()\n",
    "print(fake.name())"
   ]
  },
  {
   "cell_type": "markdown",
   "metadata": {},
   "source": [
    "You can even localize the names according to your preferences.  \n",
    "\n",
    "For e.g, if you want to display name in Hindi (India), then pass the string argument “hi_IN” to create() method."
   ]
  },
  {
   "cell_type": "code",
   "execution_count": 3,
   "metadata": {},
   "outputs": [
    {
     "name": "stdout",
     "output_type": "stream",
     "text": [
      "रामशर्मा, निशा\n"
     ]
    }
   ],
   "source": [
    "from faker import Factory\n",
    "fake = Factory.create(\"hi_IN\")\n",
    "print(fake.name())"
   ]
  },
  {
   "cell_type": "markdown",
   "metadata": {},
   "source": [
    "If you want to display 10 random currencies"
   ]
  },
  {
   "cell_type": "code",
   "execution_count": 4,
   "metadata": {},
   "outputs": [
    {
     "name": "stdout",
     "output_type": "stream",
     "text": [
      "IDR\n",
      "TZS\n",
      "SZL\n",
      "TZS\n",
      "JOD\n",
      "MZN\n",
      "RSD\n",
      "HUF\n",
      "SZL\n",
      "USD\n"
     ]
    }
   ],
   "source": [
    "from faker import Factory\n",
    "fake = Factory.create()\n",
    "for i in range(10):\n",
    "    print(fake.currency_code())"
   ]
  },
  {
   "cell_type": "markdown",
   "metadata": {},
   "source": [
    "You can randomly generate addresses using address() method. Below code is localized for “en_US”.  "
   ]
  },
  {
   "cell_type": "code",
   "execution_count": 5,
   "metadata": {},
   "outputs": [
    {
     "name": "stdout",
     "output_type": "stream",
     "text": [
      "84510 Cindy Trail Suite 830\n",
      "South Jennifer, NC 08359\n",
      "Unit 7559 Box 9529\n",
      "DPO AE 67015\n",
      "502 Thomas Points Apt. 560\n",
      "Villarrealfurt, KY 87444\n",
      "31098 Davis Road Suite 959\n",
      "Conniemouth, NV 35490\n",
      "918 Mark Lakes\n",
      "East Amyborough, IN 18369\n",
      "4382 Shelly Run Suite 212\n",
      "South Stevenmouth, OH 60501\n",
      "29782 Karen Turnpike Apt. 373\n",
      "Underwoodside, PA 50883\n",
      "415 Andrews Canyon\n",
      "Kerrstad, AK 38784\n",
      "5889 Michael Prairie Apt. 678\n",
      "Masonchester, TX 67688\n",
      "0629 Warren Islands\n",
      "Fullerburgh, DE 75136\n"
     ]
    }
   ],
   "source": [
    "from faker import Factory\n",
    "fake = Factory.create(\"en_US\")\n",
    "for i in range(10):\n",
    "    print(fake.address())"
   ]
  },
  {
   "cell_type": "markdown",
   "metadata": {},
   "source": [
    "You can generate various information about a person using different methods as shown below.  "
   ]
  },
  {
   "cell_type": "code",
   "execution_count": 7,
   "metadata": {},
   "outputs": [
    {
     "name": "stdout",
     "output_type": "stream",
     "text": [
      "King\n",
      "Natasha Oliver\n",
      "Mr.\n",
      "Mr.\n",
      "Michael Conley\n",
      "MD\n",
      "James Ferrell\n",
      "Stacy\n",
      "DVM\n",
      "MD\n",
      "Paul\n",
      "Danielle\n",
      "Cook\n",
      "Taylor\n",
      "Dr.\n"
     ]
    }
   ],
   "source": [
    "from faker import Factory\n",
    "fake = Factory.create(\"en_US\")\n",
    "\n",
    "print(fake.last_name_male())\n",
    "\n",
    "print(fake.name_female())\n",
    "\n",
    "print(fake.prefix_male())\n",
    "\n",
    "print(fake.prefix())\n",
    "\n",
    "print(fake.name())\n",
    "\n",
    "print(fake.suffix_female())\n",
    "\n",
    "print(fake.name_male())\n",
    "\n",
    "print(fake.first_name())\n",
    "\n",
    "print(fake.suffix_male())\n",
    "\n",
    "print(fake.suffix())\n",
    "\n",
    "print(fake.first_name_male())\n",
    "\n",
    "print(fake.first_name_female())\n",
    "\n",
    "print(fake.last_name_female())\n",
    "\n",
    "print(fake.last_name())\n",
    "\n",
    "print(fake.prefix_female())"
   ]
  },
  {
   "cell_type": "markdown",
   "metadata": {},
   "source": [
    "You can read various methods available in Faker Module in detail @  \n",
    "\n",
    "<a href=\"https://faker.readthedocs.io/en/master/#\" target=\"_blank\" style=\"color: rgb(6,69,173)\"><font color=\"#0066CC\">https://faker.readthedocs.io/en/master/#</font></a>\n",
    "\n",
    "You can find the above code @   \n",
    "\n",
    "<a href=\"https://github.com/gowrishankarnath/FakerPythonExamples\" target=\"_blank\" style=\"color: rgb(6,69,173)\"><font color=\"#0066CC\">https://github.com/gowrishankarnath/FakerPythonExamples</font></a>"
   ]
  }
 ],
 "metadata": {
  "kernelspec": {
   "display_name": "Python 3",
   "language": "python",
   "name": "python3"
  },
  "language_info": {
   "codemirror_mode": {
    "name": "ipython",
    "version": 3
   },
   "file_extension": ".py",
   "mimetype": "text/x-python",
   "name": "python",
   "nbconvert_exporter": "python",
   "pygments_lexer": "ipython3",
   "version": "3.7.3"
  }
 },
 "nbformat": 4,
 "nbformat_minor": 2
}
