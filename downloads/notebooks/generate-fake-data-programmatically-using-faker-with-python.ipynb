{
 "cells": [
  {
   "cell_type": "markdown",
   "metadata": {},
   "source": []
  },
  {
   "cell_type": "code",
   "execution_count": 5,
   "metadata": {},
   "outputs": [
    {
     "name": "stdout",
     "output_type": "stream",
     "text": [
      "Susan Craig\n"
     ]
    }
   ],
   "source": []
  },
  {
   "cell_type": "markdown",
   "metadata": {},
   "source": [
    "You can even localize the names according to your preferences.  \n",
    "\n",
    "For e.g, if you want to display name in Hindi (India), then pass the string argument “hi_IN” to create() method."
   ]
  },
  {
   "cell_type": "code",
   "execution_count": 3,
   "metadata": {},
   "outputs": [
    {
     "name": "stdout",
     "output_type": "stream",
     "text": [
      "रामशर्मा, निशा\n"
     ]
    }
   ],
   "source": []
  },
  {
   "cell_type": "markdown",
   "metadata": {},
   "source": []
  },
  {
   "cell_type": "code",
   "execution_count": 4,
   "metadata": {},
   "outputs": [
    {
     "name": "stdout",
     "output_type": "stream",
     "text": [
      "IDR\n",
      "TZS\n",
      "SZL\n",
      "TZS\n",
      "JOD\n",
      "MZN\n",
      "RSD\n",
      "HUF\n",
      "SZL\n",
      "USD\n"
     ]
    }
   ],
   "source": []
  },
  {
   "cell_type": "markdown",
   "metadata": {},
   "source": [
    "You can randomly generate addresses using address() method. Below code is localized for “en_US”.  "
   ]
  },
  {
   "cell_type": "code",
   "execution_count": 5,
   "metadata": {},
   "outputs": [
    {
     "name": "stdout",
     "output_type": "stream",
     "text": [
      "84510 Cindy Trail Suite 830\n",
      "South Jennifer, NC 08359\n",
      "Unit 7559 Box 9529\n",
      "DPO AE 67015\n",
      "502 Thomas Points Apt. 560\n",
      "Villarrealfurt, KY 87444\n",
      "31098 Davis Road Suite 959\n",
      "Conniemouth, NV 35490\n",
      "918 Mark Lakes\n",
      "East Amyborough, IN 18369\n",
      "4382 Shelly Run Suite 212\n",
      "South Stevenmouth, OH 60501\n",
      "29782 Karen Turnpike Apt. 373\n",
      "Underwoodside, PA 50883\n",
      "415 Andrews Canyon\n",
      "Kerrstad, AK 38784\n",
      "5889 Michael Prairie Apt. 678\n",
      "Masonchester, TX 67688\n",
      "0629 Warren Islands\n",
      "Fullerburgh, DE 75136\n"
     ]
    }
   ],
   "source": []
  },
  {
   "cell_type": "markdown",
   "metadata": {},
   "source": []
  },
  {
   "cell_type": "code",
   "execution_count": 7,
   "metadata": {},
   "outputs": [
    {
     "name": "stdout",
     "output_type": "stream",
     "text": [
      "King\n",
      "Natasha Oliver\n",
      "Mr.\n",
      "Mr.\n",
      "Michael Conley\n",
      "MD\n",
      "James Ferrell\n",
      "Stacy\n",
      "DVM\n",
      "MD\n",
      "Paul\n",
      "Danielle\n",
      "Cook\n",
      "Taylor\n",
      "Dr.\n"
     ]
    }
   ],
   "source": []
  },
  {
   "cell_type": "markdown",
   "metadata": {},
   "source": [
    "You can read various methods available in Faker Module in detail @  \n",
    "\n",
    "<a href=\"https://faker.readthedocs.io/en/master/#\" target=\"_blank\" style=\"color: rgb(6,69,173)\"><font color=\"#0066CC\">https://faker.readthedocs.io/en/master/#</font></a>\n",
    "\n",
    "You can find the above code @   \n",
    "\n",
    "<a href=\"https://github.com/gowrishankarnath/FakerPythonExamples\" target=\"_blank\" style=\"color: rgb(6,69,173)\"><font color=\"#0066CC\">https://github.com/gowrishankarnath/FakerPythonExamples</font></a>"
   ]
  }
 ],
 "metadata": {
  "kernelspec": {
   "display_name": "Python 3",
   "language": "python",
   "name": "python3"
  },
  "language_info": {
   "codemirror_mode": {
    "name": "ipython",
    "version": 3
   },
   "file_extension": ".py",
   "mimetype": "text/x-python",
   "name": "python",
   "nbconvert_exporter": "python",
   "pygments_lexer": "ipython3",
   "version": "3.8.5"
  }
 },
 "nbformat": 4,
 "nbformat_minor": 2
}
